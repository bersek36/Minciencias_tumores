{
 "cells": [
  {
   "cell_type": "code",
   "execution_count": 1,
   "metadata": {},
   "outputs": [],
   "source": [
    "import os\n",
    "\n",
    "import tensorflow as tf\n",
    "from sklearn.model_selection import train_test_split\n",
    "import nibabel as nib\n",
    "from sklearn.model_selection import train_test_split\n",
    "import numpy as np\n",
    "from numpy import load, savez_compressed\n",
    "from natsort import natsorted\n",
    "\n",
    "from preprocess.get_subvolume import get_training_sub_volumes, get_test_subvolumes\n",
    "\n",
    "\n",
    "dataset_folder = \"/media/bersek/56DAFC88DAFC65A1/BRATS/BraTS2020_TrainingData/MICCAI_BraTS2020_TrainingData\""
   ]
  },
  {
   "cell_type": "code",
   "execution_count": 2,
   "metadata": {},
   "outputs": [
    {
     "name": "stdout",
     "output_type": "stream",
     "text": [
      "2.6.0\n"
     ]
    },
    {
     "name": "stderr",
     "output_type": "stream",
     "text": [
      "2021-10-14 20:37:15.914009: I tensorflow/stream_executor/cuda/cuda_gpu_executor.cc:937] successful NUMA node read from SysFS had negative value (-1), but there must be at least one NUMA node, so returning NUMA node zero\n",
      "2021-10-14 20:37:15.985505: I tensorflow/stream_executor/cuda/cuda_gpu_executor.cc:937] successful NUMA node read from SysFS had negative value (-1), but there must be at least one NUMA node, so returning NUMA node zero\n",
      "2021-10-14 20:37:15.985834: I tensorflow/stream_executor/cuda/cuda_gpu_executor.cc:937] successful NUMA node read from SysFS had negative value (-1), but there must be at least one NUMA node, so returning NUMA node zero\n"
     ]
    },
    {
     "data": {
      "text/plain": [
       "[PhysicalDevice(name='/physical_device:GPU:0', device_type='GPU')]"
      ]
     },
     "execution_count": 2,
     "metadata": {},
     "output_type": "execute_result"
    }
   ],
   "source": [
    "print(tf.__version__)\n",
    "tf.config.list_physical_devices(\"GPU\") "
   ]
  },
  {
   "cell_type": "code",
   "execution_count": 3,
   "metadata": {},
   "outputs": [],
   "source": [
    "def make_dirs(volumes_paths):\n",
    "    processed_paths = {}\n",
    "    processed_sample_paths = {}\n",
    "    SAMPLES_FOLDERS = volumes_paths\n",
    "    PARENT_DIR = os.getcwd()\n",
    "    ANTER = os.path.abspath(os.path.join(os.path.dirname(PARENT_DIR), '.'))\n",
    "    processed_paths[\"ANTER\"] = ANTER\n",
    "    DATABASE_DIR = os.path.join(ANTER, \"BraTS2020_TrainingData/MICCAI_BraTS2020_TrainingData\")\n",
    "\n",
    "    processed_paths[\"PROCESSED_DIR\"] = os.path.join(ANTER, \"processed\")\n",
    "    PROCESSED_DIR = processed_paths[\"PROCESSED_DIR\"]\n",
    "\n",
    "    processed_paths[\"3D\"] = os.path.join(PROCESSED_DIR, \"3D\")\n",
    "    UNET_3D = processed_paths[\"3D\"]\n",
    "\n",
    "    processed_paths[\"SUBVOLUME_FOLDER\"] = os.path.join(UNET_3D,\"subvolumes\")\n",
    "    processed_paths[\"SUBVOLUME_MASK_FOLDER\"] = os.path.join(UNET_3D,\"subvolumes_masks\")\n",
    "    processed_paths[\"ROTATION_MATRIX\"] = os.path.join(UNET_3D,\"rotation_matrix\")\n",
    "    processed_paths[\"RESULTS_3D\"] = os.path.join(UNET_3D,\"subvolumes_predict\")\n",
    "\n",
    "    for path in processed_paths:\n",
    "        dir_exists = os.path.exists(processed_paths[path])\n",
    "        if not dir_exists:\n",
    "            os.makedirs(processed_paths[path])\n",
    "\n",
    "    processed_paths.pop(\"PROCESSED_DIR\")\n",
    "    processed_paths.pop(\"ANTER\")\n",
    "    processed_paths.pop(\"3D\")\n",
    "    for path in processed_paths:\n",
    "        if path == \"RESULTS_3D\":\n",
    "            train_files, val_files = train_test_split(SAMPLES_FOLDERS, test_size=0.2, random_state=42)\n",
    "            test_files, val_files = train_test_split(val_files, test_size=0.5, random_state=42)\n",
    "            SAMPLES_FOLDERS_TEST_TRAIN = test_files\n",
    "            TEST_SAMPLES = SAMPLES_FOLDERS_TEST_TRAIN\n",
    "        else:\n",
    "            SAMPLES_FOLDERS_TEST_TRAIN = SAMPLES_FOLDERS\n",
    "\n",
    "        for sample in SAMPLES_FOLDERS_TEST_TRAIN:\n",
    "            sample_dir = os.path.join(processed_paths[path], sample)\n",
    "            dir_exists = os.path.exists(sample_dir)\n",
    "            if not dir_exists:\n",
    "                os.makedirs(sample_dir)\n",
    "        processed_sample_paths[path] = processed_paths[path]\n",
    "    processed_sample_paths[\"DATABASE_DIR\"] = DATABASE_DIR\n",
    "    processed_sample_paths[\"SAMPLES\"] = SAMPLES_FOLDERS\n",
    "    processed_sample_paths[\"TEST_SAMPLES\"] = TEST_SAMPLES\n",
    "    return processed_sample_paths, train_files, val_files, test_files\n"
   ]
  },
  {
   "cell_type": "code",
   "execution_count": 4,
   "metadata": {},
   "outputs": [],
   "source": [
    "def count_volumes(volumes_path):\n",
    "    volumes = [name for name in os.listdir(volumes_path) if name.startswith(\"BraTS20\")]\n",
    "    num_volumes = int(len(volumes))\n",
    "    print(volumes[0])\n",
    "    return volumes"
   ]
  },
  {
   "cell_type": "code",
   "execution_count": 5,
   "metadata": {},
   "outputs": [],
   "source": [
    "def create_file_name(sample, mask=1):\n",
    "    \"\"\"Funcion que genera el nombre de los archivos para automatizar la lectura\n",
    "\n",
    "    :param sample: codigo del paciente (carpeta)\n",
    "    :type sample: string\n",
    "    :param mask: Define si se quiere la mascara o el volumen normal, defaults to False\n",
    "    :type mask: bool, optional\n",
    "    :return: nombre del archivo a leer\n",
    "    :rtype: path\n",
    "    \"\"\"\n",
    "    if mask==1:\n",
    "        file_name = sample+\"_seg.nii\"\n",
    "    elif mask==2:\n",
    "        file_name = sample+\"_t1.nii\"\n",
    "    \n",
    "    elif mask==3:\n",
    "        file_name = sample+\"_flair.nii\"\n",
    "    elif mask==4:\n",
    "        file_name = sample+\"_t1ce.nii\"\n",
    "    elif mask==5:\n",
    "        file_name = sample+\"_t2.nii\"\n",
    "    file_name = os.path.join(sample, file_name)\n",
    "    return file_name"
   ]
  },
  {
   "cell_type": "code",
   "execution_count": 6,
   "metadata": {},
   "outputs": [],
   "source": [
    "def get_sub_volumes_train(sample):\n",
    "    \"\"\"Esta funcion recibe el nombre de una muestra (carpeta) y genera los sub-volumenes.\n",
    "    SOLO PARA TRAIN!!\n",
    "\n",
    "    :param sample: nombre de la carpeta que contiene el volumen y su mascara\n",
    "    :type sample: path\n",
    "    \"\"\"\n",
    "    img = os.path.join(paths[\"DATABASE_DIR\"], create_file_name(sample, 1))\n",
    "    img_mask = os.path.join(paths[\"DATABASE_DIR\"], create_file_name(sample, 2))\n",
    "    img = nib.load(img)\n",
    "    img_mask = nib.load(img_mask)\n",
    "    image = img.get_fdata()\n",
    "    image_mask = img_mask.get_fdata()\n",
    "    SAVE_PATH_SUBVOLUME = os.path.join(paths[\"SUBVOLUME_FOLDER\"], sample)\n",
    "    SAVE_PATH_SUBMASK = os.path.join(paths[\"SUBVOLUME_MASK_FOLDER\"], sample)\n",
    "    ROTATION_MATRIX_PATH = os.path.join(paths[\"ROTATION_MATRIX\"], sample,sample)\n",
    "    get_training_sub_volumes(image, img.affine, image_mask, img_mask.affine, \n",
    "                                    SAVE_PATH_SUBVOLUME, SAVE_PATH_SUBMASK, ROTATION_MATRIX_PATH,\n",
    "                                    classes=1, \n",
    "                                    orig_x = orig_x, orig_y = orig_y, orig_z = orig_z, \n",
    "                                    output_x = output_x, output_y = output_y, output_z = output_z,\n",
    "                                    stride_x = stride_x, stride_y = stride_y, stride_z = stride_z,\n",
    "                                    background_threshold=back_threshold)"
   ]
  },
  {
   "cell_type": "code",
   "execution_count": 7,
   "metadata": {},
   "outputs": [],
   "source": [
    "def get_sub_volumes_test(sample):\n",
    "    \"\"\"Esta funcion recibe el nombre de una muestra (carpeta) y genera los sub-volumenes.\n",
    "    SOLO PARA TEST!!\n",
    "\n",
    "    NOTA: el stride de los volumenes de test es mas grande \n",
    "    debido a que genera muchas mas imagenes y no tengo espacio.\n",
    "\n",
    "    :param sample: nombre de la carpeta que contiene el volumen y su mascara\n",
    "    :type sample: path\n",
    "    \"\"\"\n",
    "    img = os.path.join(paths[\"DATABASE_DIR\"], create_file_name(sample, 1))\n",
    "    img_mask = os.path.join(paths[\"DATABASE_DIR\"], create_file_name(sample, 2))\n",
    "    img = nib.load(img)\n",
    "    img_mask = nib.load(img_mask)\n",
    "    image = img.get_fdata()\n",
    "    image_mask = img_mask.get_fdata()\n",
    "    SAVE_PATH_SUBVOLUME = os.path.join(paths[\"SUBVOLUME_FOLDER\"], sample)\n",
    "    SAVE_PATH_SUBMASK = os.path.join(paths[\"SUBVOLUME_MASK_FOLDER\"], sample)\n",
    "    ROTATION_MATRIX_PATH = os.path.join(paths[\"ROTATION_MATRIX\"], sample,sample)\n",
    "    get_test_subvolumes(image, img.affine, image_mask, img_mask.affine, \n",
    "                                    SAVE_PATH_SUBVOLUME, SAVE_PATH_SUBMASK, ROTATION_MATRIX_PATH,\n",
    "                                    orig_x = orig_x, orig_y = orig_y, orig_z = orig_z, \n",
    "                                    output_x = output_x, output_y = output_y, output_z = output_z,\n",
    "                                    stride_x = stride_x, stride_y = stride_y, stride_z = stride_z)"
   ]
  },
  {
   "cell_type": "code",
   "execution_count": 9,
   "metadata": {},
   "outputs": [
    {
     "data": {
      "text/plain": [
       "'/media/bersek/56DAFC88DAFC65A1/BRATS/BraTS2020_TrainingData/MICCAI_BraTS2020_TrainingData'"
      ]
     },
     "execution_count": 9,
     "metadata": {},
     "output_type": "execute_result"
    }
   ],
   "source": [
    "\"content/data/volume_1_slice_0.h5\"\n",
    "\"/media/bersek/56DAFC88DAFC65A1/BRATS/BraTS2020_TrainingData/MICCAI_BraTS2020_TrainingData\""
   ]
  },
  {
   "cell_type": "code",
   "execution_count": 8,
   "metadata": {},
   "outputs": [
    {
     "name": "stdout",
     "output_type": "stream",
     "text": [
      "BraTS20_Training_001\n"
     ]
    }
   ],
   "source": [
    "volumes_folders = count_volumes(dataset_folder)"
   ]
  },
  {
   "cell_type": "code",
   "execution_count": 9,
   "metadata": {},
   "outputs": [],
   "source": [
    "paths, train_files, val_files, test_files = make_dirs(volumes_folders)\n",
    "test_files.extend(val_files)"
   ]
  },
  {
   "cell_type": "code",
   "execution_count": null,
   "metadata": {},
   "outputs": [],
   "source": [
    "os.path.join(paths[\"SUBVOLUME_MASK_FOLDER\"],path"
   ]
  },
  {
   "cell_type": "code",
   "execution_count": 15,
   "metadata": {},
   "outputs": [
    {
     "name": "stdout",
     "output_type": "stream",
     "text": [
      "/media/bersek/56DAFC88DAFC65A1/BRATS/BraTS2020_TrainingData/MICCAI_BraTS2020_TrainingData\n"
     ]
    }
   ],
   "source": [
    "print(paths[\"DATABASE_DIR\"])"
   ]
  },
  {
   "cell_type": "code",
   "execution_count": 13,
   "metadata": {},
   "outputs": [],
   "source": [
    "get_sub_volumes_train(train_files[1])"
   ]
  },
  {
   "cell_type": "code",
   "execution_count": 224,
   "metadata": {},
   "outputs": [],
   "source": [
    "import numpy as np \n",
    "from numpy import load\n",
    "from numpy import savez_compressed\n",
    "import nibabel as nib\n",
    "file = os.path.join(paths[\"SUBVOLUME_MASK_FOLDER\"],\"BraTS20_Training_355\",\"submask41.npz\")\n",
    "#file = os.path.join(paths[\"SUBVOLUME_FOLDER\"],\"BraTS20_Training_355\",\"subvolume40.npz\")"
   ]
  },
  {
   "cell_type": "code",
   "execution_count": 225,
   "metadata": {},
   "outputs": [
    {
     "data": {
      "text/plain": [
       "'BraTS20_Training_001'"
      ]
     },
     "execution_count": 225,
     "metadata": {},
     "output_type": "execute_result"
    }
   ],
   "source": [
    "paths[\"SAMPLES\"][0]"
   ]
  },
  {
   "cell_type": "code",
   "execution_count": 94,
   "metadata": {},
   "outputs": [
    {
     "name": "stdout",
     "output_type": "stream",
     "text": [
      "BraTS20_Training_345\n",
      "BraTS20_Training_223\n",
      "BraTS20_Training_139\n",
      "BraTS20_Training_302\n",
      "BraTS20_Training_368\n",
      "BraTS20_Training_272\n",
      "BraTS20_Training_064\n",
      "BraTS20_Training_324\n",
      "BraTS20_Training_244\n",
      "BraTS20_Training_073\n",
      "BraTS20_Training_308\n",
      "BraTS20_Training_274\n",
      "BraTS20_Training_184\n",
      "BraTS20_Training_294\n",
      "BraTS20_Training_217\n",
      "BraTS20_Training_006\n",
      "BraTS20_Training_249\n",
      "BraTS20_Training_304\n",
      "BraTS20_Training_221\n",
      "BraTS20_Training_042\n",
      "BraTS20_Training_045\n",
      "BraTS20_Training_065\n",
      "BraTS20_Training_212\n",
      "BraTS20_Training_024\n",
      "BraTS20_Training_366\n",
      "BraTS20_Training_211\n",
      "BraTS20_Training_199\n",
      "BraTS20_Training_036\n",
      "BraTS20_Training_282\n",
      "BraTS20_Training_169\n",
      "BraTS20_Training_017\n",
      "BraTS20_Training_230\n",
      "BraTS20_Training_010\n",
      "BraTS20_Training_118\n",
      "BraTS20_Training_185\n",
      "BraTS20_Training_142\n",
      "BraTS20_Training_132\n",
      "BraTS20_Training_061\n"
     ]
    },
    {
     "ename": "FileNotFoundError",
     "evalue": "[Errno 2] No such file or directory: '/media/bersek/56DAFC88DAFC65A1/BRATS/processed/3D/subvolumes_predict/BraTS20_Training_061/subvolume1.npz'",
     "output_type": "error",
     "traceback": [
      "\u001b[0;31m---------------------------------------------------------------------------\u001b[0m",
      "\u001b[0;31mFileNotFoundError\u001b[0m                         Traceback (most recent call last)",
      "\u001b[0;32m/tmp/ipykernel_151852/769292984.py\u001b[0m in \u001b[0;36m<module>\u001b[0;34m\u001b[0m\n\u001b[1;32m      3\u001b[0m     \u001b[0;32mfor\u001b[0m \u001b[0mi\u001b[0m \u001b[0;32min\u001b[0m \u001b[0mrange\u001b[0m \u001b[0;34m(\u001b[0m\u001b[0;36m45\u001b[0m\u001b[0;34m)\u001b[0m\u001b[0;34m:\u001b[0m\u001b[0;34m\u001b[0m\u001b[0;34m\u001b[0m\u001b[0m\n\u001b[1;32m      4\u001b[0m         \u001b[0mfile\u001b[0m \u001b[0;34m=\u001b[0m \u001b[0mos\u001b[0m\u001b[0;34m.\u001b[0m\u001b[0mpath\u001b[0m\u001b[0;34m.\u001b[0m\u001b[0mjoin\u001b[0m\u001b[0;34m(\u001b[0m\u001b[0mpaths\u001b[0m\u001b[0;34m[\u001b[0m\u001b[0;34m\"RESULTS_3D\"\u001b[0m\u001b[0;34m]\u001b[0m\u001b[0;34m,\u001b[0m\u001b[0mpath\u001b[0m\u001b[0;34m,\u001b[0m\u001b[0;34m\"subvolume{}.npz\"\u001b[0m\u001b[0;34m.\u001b[0m\u001b[0mformat\u001b[0m\u001b[0;34m(\u001b[0m\u001b[0mi\u001b[0m\u001b[0;34m+\u001b[0m\u001b[0;36m1\u001b[0m\u001b[0;34m)\u001b[0m\u001b[0;34m)\u001b[0m\u001b[0;34m\u001b[0m\u001b[0;34m\u001b[0m\u001b[0m\n\u001b[0;32m----> 5\u001b[0;31m         \u001b[0mdict_data_file\u001b[0m \u001b[0;34m=\u001b[0m \u001b[0mload\u001b[0m\u001b[0;34m(\u001b[0m\u001b[0mfile\u001b[0m\u001b[0;34m)\u001b[0m\u001b[0;34m[\u001b[0m\u001b[0;34m'arr_0'\u001b[0m\u001b[0;34m]\u001b[0m\u001b[0;34m\u001b[0m\u001b[0;34m\u001b[0m\u001b[0m\n\u001b[0m\u001b[1;32m      6\u001b[0m         \u001b[0mforma\u001b[0m \u001b[0;34m=\u001b[0m \u001b[0mdict_data_file\u001b[0m\u001b[0;34m.\u001b[0m\u001b[0mshape\u001b[0m\u001b[0;34m\u001b[0m\u001b[0;34m\u001b[0m\u001b[0m\n\u001b[1;32m      7\u001b[0m         \u001b[0;32mfor\u001b[0m \u001b[0mx\u001b[0m \u001b[0;32min\u001b[0m \u001b[0mrange\u001b[0m\u001b[0;34m(\u001b[0m\u001b[0mforma\u001b[0m\u001b[0;34m[\u001b[0m\u001b[0;36m0\u001b[0m\u001b[0;34m]\u001b[0m\u001b[0;34m)\u001b[0m\u001b[0;34m:\u001b[0m\u001b[0;34m\u001b[0m\u001b[0;34m\u001b[0m\u001b[0m\n",
      "\u001b[0;32m/media/bersek/56DAFC88DAFC65A1/BRATS/environment/tumores/lib/python3.8/site-packages/numpy/lib/npyio.py\u001b[0m in \u001b[0;36mload\u001b[0;34m(file, mmap_mode, allow_pickle, fix_imports, encoding)\u001b[0m\n\u001b[1;32m    414\u001b[0m             \u001b[0mown_fid\u001b[0m \u001b[0;34m=\u001b[0m \u001b[0;32mFalse\u001b[0m\u001b[0;34m\u001b[0m\u001b[0;34m\u001b[0m\u001b[0m\n\u001b[1;32m    415\u001b[0m         \u001b[0;32melse\u001b[0m\u001b[0;34m:\u001b[0m\u001b[0;34m\u001b[0m\u001b[0;34m\u001b[0m\u001b[0m\n\u001b[0;32m--> 416\u001b[0;31m             \u001b[0mfid\u001b[0m \u001b[0;34m=\u001b[0m \u001b[0mstack\u001b[0m\u001b[0;34m.\u001b[0m\u001b[0menter_context\u001b[0m\u001b[0;34m(\u001b[0m\u001b[0mopen\u001b[0m\u001b[0;34m(\u001b[0m\u001b[0mos_fspath\u001b[0m\u001b[0;34m(\u001b[0m\u001b[0mfile\u001b[0m\u001b[0;34m)\u001b[0m\u001b[0;34m,\u001b[0m \u001b[0;34m\"rb\"\u001b[0m\u001b[0;34m)\u001b[0m\u001b[0;34m)\u001b[0m\u001b[0;34m\u001b[0m\u001b[0;34m\u001b[0m\u001b[0m\n\u001b[0m\u001b[1;32m    417\u001b[0m             \u001b[0mown_fid\u001b[0m \u001b[0;34m=\u001b[0m \u001b[0;32mTrue\u001b[0m\u001b[0;34m\u001b[0m\u001b[0;34m\u001b[0m\u001b[0m\n\u001b[1;32m    418\u001b[0m \u001b[0;34m\u001b[0m\u001b[0m\n",
      "\u001b[0;31mFileNotFoundError\u001b[0m: [Errno 2] No such file or directory: '/media/bersek/56DAFC88DAFC65A1/BRATS/processed/3D/subvolumes_predict/BraTS20_Training_061/subvolume1.npz'"
     ]
    }
   ],
   "source": [
    "for path in test_files:\n",
    "    print(path)\n",
    "    for i in range (45):\n",
    "        file = os.path.join(paths[\"RESULTS_3D\"],path,\"subvolume{}.npz\".format(i+1))\n",
    "        dict_data_file = load(file)['arr_0']\n",
    "        forma = dict_data_file.shape\n",
    "        for x in range(forma[0]):\n",
    "            for y in range(forma[1]):\n",
    "                for z in range(forma[2]):\n",
    "                    if dict_data_file[x,y,z] != 0.0:\n",
    "                        print(dict_data_file[x,y,z])\n"
   ]
  },
  {
   "cell_type": "code",
   "execution_count": 126,
   "metadata": {},
   "outputs": [
    {
     "data": {
      "text/plain": [
       "64"
      ]
     },
     "execution_count": 126,
     "metadata": {},
     "output_type": "execute_result"
    }
   ],
   "source": [
    "dict_data_file = load(file)['arr_0']\n",
    "dict_data_file.max()\n",
    "dict_data_file.shape[0]"
   ]
  },
  {
   "cell_type": "code",
   "execution_count": 116,
   "metadata": {},
   "outputs": [
    {
     "data": {
      "text/plain": [
       "(64, 64, 16)"
      ]
     },
     "execution_count": 116,
     "metadata": {},
     "output_type": "execute_result"
    }
   ],
   "source": [
    "dict_data_file.shape"
   ]
  },
  {
   "cell_type": "code",
   "execution_count": 18,
   "metadata": {},
   "outputs": [
    {
     "data": {
      "text/plain": [
       "0.0"
      ]
     },
     "execution_count": 18,
     "metadata": {},
     "output_type": "execute_result"
    }
   ],
   "source": [
    "maximo = 4.0\n",
    "minimo = 0.0\n",
    "contador = 0\n",
    "contador1 = 0\n",
    "for i in range (45):\n",
    "    file = os.path.join(paths[\"RESULTS_3D\"],\"BraTS20_Training_017\",\"subvolume{}.npz\".format(i+1))\n",
    "    dict_data_file = load(file)['arr_0']\n",
    "    for x in dict_data_file:\n",
    "        for y in x:\n",
    "            for z in y:\n",
    "                if z!=0.0 :\n",
    "                    #print(z,file)\n",
    "                    contador += 1\n",
    "                    contador1 += 1\n",
    "    if contador1/(80*80*32) !=0.0:\n",
    "        print(contador1)\n",
    "        print(contador1/(80*80*32))\n",
    "    contador1 = 0\n",
    "#print(maximo,data_file)\n",
    "contador/(45*80*80*32)"
   ]
  },
  {
   "cell_type": "code",
   "execution_count": 16,
   "metadata": {},
   "outputs": [
    {
     "name": "stdout",
     "output_type": "stream",
     "text": [
      "BraTS20_Training_345\n"
     ]
    },
    {
     "data": {
      "text/plain": [
       "0.01072894265232975"
      ]
     },
     "execution_count": 16,
     "metadata": {},
     "output_type": "execute_result"
    }
   ],
   "source": [
    "sample = \"BraTS20_Training_345\"\n",
    "img = os.path.join(paths[\"DATABASE_DIR\"], create_file_name(sample, 4))\n",
    "img_mask = os.path.join(paths[\"DATABASE_DIR\"], create_file_name(sample, 1))\n",
    "img = nib.load(img)\n",
    "img_mask = nib.load(img_mask)\n",
    "image = img.get_fdata()\n",
    "image_mask = img_mask.get_fdata()\n",
    "print(sample)\n",
    "img_affine = img_mask.affine\n",
    "contador = 0\n",
    "contador1 = 0\n",
    "\n",
    "forma = image_mask.shape\n",
    "for x in range(forma[0]):\n",
    "    for y in range(forma[1]):\n",
    "        for z in range(forma[2]):\n",
    "            if image_mask[x,y,z] == 4.0 or image_mask[x,y,z] == 1.0 or image_mask[x,y,z] == 2.0 :\n",
    "                contador += 1\n",
    "                \n",
    "contador/(240*240*155)"
   ]
  },
  {
   "cell_type": "code",
   "execution_count": 107,
   "metadata": {},
   "outputs": [
    {
     "name": "stdout",
     "output_type": "stream",
     "text": [
      "1.0 /media/bersek/56DAFC88DAFC65A1/BRATS/A00028185/submask23.npz\n"
     ]
    }
   ],
   "source": [
    "\"/media/bersek/56DAFC88DAFC65A1/BRATS/A00028185\"\n",
    "maximo = 0.0\n",
    "for i in range (191):\n",
    "    file = os.path.join(\"/media/bersek/56DAFC88DAFC65A1/BRATS/A00028185\",\"submask{}.npz\".format(i+1))\n",
    "    dict_data_file = load(file)['arr_0']\n",
    "    if dict_data_file.max() > maximo:\n",
    "        maximo = dict_data_file.max()\n",
    "        data_file = file\n",
    "print(maximo,data_file)"
   ]
  },
  {
   "cell_type": "code",
   "execution_count": 163,
   "metadata": {},
   "outputs": [],
   "source": [
    "orig_x = 240\n",
    "orig_y = 240\n",
    "orig_z = 155 \n",
    "\n",
    "output_x = 80\n",
    "output_y = 80\n",
    "output_z = 32\n",
    "\n",
    "stride_x = 80\n",
    "stride_y = 80\n",
    "stride_z = 31"
   ]
  },
  {
   "cell_type": "code",
   "execution_count": 164,
   "metadata": {},
   "outputs": [
    {
     "name": "stdout",
     "output_type": "stream",
     "text": [
      "X:  0 Y:  0 Z:  0\n",
      "X:  80 Y:  0 Z:  0\n",
      "X:  160 Y:  0 Z:  0\n",
      "X:  0 Y:  80 Z:  0\n",
      "X:  80 Y:  80 Z:  0\n",
      "X:  160 Y:  80 Z:  0\n",
      "X:  0 Y:  160 Z:  0\n",
      "X:  80 Y:  160 Z:  0\n",
      "X:  160 Y:  160 Z:  0\n",
      "X:  0 Y:  0 Z:  31\n",
      "X:  80 Y:  0 Z:  31\n",
      "X:  160 Y:  0 Z:  31\n",
      "X:  0 Y:  80 Z:  31\n",
      "X:  80 Y:  80 Z:  31\n",
      "X:  160 Y:  80 Z:  31\n",
      "X:  0 Y:  160 Z:  31\n",
      "X:  80 Y:  160 Z:  31\n",
      "X:  160 Y:  160 Z:  31\n",
      "X:  0 Y:  0 Z:  62\n",
      "X:  80 Y:  0 Z:  62\n",
      "X:  160 Y:  0 Z:  62\n",
      "X:  0 Y:  80 Z:  62\n",
      "X:  80 Y:  80 Z:  62\n",
      "X:  160 Y:  80 Z:  62\n",
      "X:  0 Y:  160 Z:  62\n",
      "X:  80 Y:  160 Z:  62\n",
      "X:  160 Y:  160 Z:  62\n",
      "X:  0 Y:  0 Z:  93\n",
      "X:  80 Y:  0 Z:  93\n",
      "X:  160 Y:  0 Z:  93\n",
      "X:  0 Y:  80 Z:  93\n",
      "X:  80 Y:  80 Z:  93\n",
      "X:  160 Y:  80 Z:  93\n",
      "X:  0 Y:  160 Z:  93\n",
      "X:  80 Y:  160 Z:  93\n",
      "X:  160 Y:  160 Z:  93\n",
      "125\n",
      "X:  0 Y:  0 Z:  123\n",
      "X:  80 Y:  0 Z:  123\n",
      "X:  160 Y:  0 Z:  123\n",
      "X:  0 Y:  80 Z:  123\n",
      "X:  80 Y:  80 Z:  123\n",
      "X:  160 Y:  80 Z:  123\n",
      "X:  0 Y:  160 Z:  123\n",
      "X:  80 Y:  160 Z:  123\n",
      "X:  160 Y:  160 Z:  123\n",
      "45\n"
     ]
    }
   ],
   "source": [
    "contador = 0\n",
    "for i_2 in range(0, orig_z-output_z+2, stride_z):#(0, orig_x-output_x+1, output_x-1):\n",
    "    if i_2 < 124:\n",
    "        i = i_2\n",
    "    else:\n",
    "        print(orig_z-output_z+2)\n",
    "        i = i_2-1\n",
    "    for j in range(0, orig_y-output_y+1, stride_y):\n",
    "        for k in range(0, orig_x-output_x+1, stride_x):\n",
    "            print(\"X: \", k, \"Y: \", j, \"Z: \", i)\n",
    "            contador += 1 \n",
    "\n",
    "print(contador)"
   ]
  },
  {
   "cell_type": "code",
   "execution_count": 171,
   "metadata": {},
   "outputs": [
    {
     "data": {
      "text/plain": [
       "'BraTS20_Training_345'"
      ]
     },
     "execution_count": 171,
     "metadata": {},
     "output_type": "execute_result"
    }
   ],
   "source": [
    "test_files[0]"
   ]
  },
  {
   "cell_type": "code",
   "execution_count": 93,
   "metadata": {},
   "outputs": [
    {
     "name": "stdout",
     "output_type": "stream",
     "text": [
      "BraTS20_Training_345\n",
      "BraTS20_Training_223\n",
      "BraTS20_Training_139\n",
      "BraTS20_Training_302\n",
      "BraTS20_Training_368\n"
     ]
    }
   ],
   "source": [
    "for sample in test_files[:5]:\n",
    "    img = os.path.join(paths[\"DATABASE_DIR\"], create_file_name(sample, 4))\n",
    "    img_mask = os.path.join(paths[\"DATABASE_DIR\"], create_file_name(sample, 1))\n",
    "    img = nib.load(img)\n",
    "    img_mask = nib.load(img_mask)\n",
    "    image = img.get_fdata()\n",
    "    image_mask = img_mask.get_fdata()\n",
    "    print(sample)\n",
    "    img_affine = img_mask.affine\n",
    "    SAVE_PATH_SUBVOLUME = os.path.join(paths[\"SUBVOLUME_FOLDER\"], sample)\n",
    "    SAVE_PATH_SUBMASK = os.path.join(paths[\"SUBVOLUME_MASK_FOLDER\"], sample)\n",
    "    ROTATION_MATRIX_PATH = os.path.join(paths[\"ROTATION_MATRIX\"], sample,sample)\n",
    "\n",
    "    forma = image_mask.shape\n",
    "    for x in range(forma[0]):\n",
    "        for y in range(forma[1]):\n",
    "            for z in range(forma[2]):\n",
    "                if image_mask[x,y,z] == 4.0 or image_mask[x,y,z] == 1.0:\n",
    "                    image_mask[x,y,z] = 1.0\n",
    "                else:\n",
    "                    image_mask[x,y,z] = 0.0\n",
    "    savez_compressed(os.path.join(sample), image.astype(np.float32))\n",
    "    savez_compressed(os.path.join(sample+\"_mask\"), image_mask.astype(np.float32))\n",
    "    nii_segmented = nib.Nifti1Image(image_mask.astype(np.float32), img_affine.astype(np.float32))\n",
    "    nib.save(nii_segmented, os.path.join(sample+\".nii\"))"
   ]
  },
  {
   "cell_type": "code",
   "execution_count": 1,
   "metadata": {},
   "outputs": [
    {
     "ename": "NameError",
     "evalue": "name 'test_files' is not defined",
     "output_type": "error",
     "traceback": [
      "\u001b[0;31m---------------------------------------------------------------------------\u001b[0m",
      "\u001b[0;31mNameError\u001b[0m                                 Traceback (most recent call last)",
      "\u001b[0;32m/tmp/ipykernel_12556/39866588.py\u001b[0m in \u001b[0;36m<module>\u001b[0;34m\u001b[0m\n\u001b[0;32m----> 1\u001b[0;31m \u001b[0mtest_files\u001b[0m\u001b[0;34m[\u001b[0m\u001b[0;36m0\u001b[0m\u001b[0;34m]\u001b[0m\u001b[0;34m\u001b[0m\u001b[0;34m\u001b[0m\u001b[0m\n\u001b[0m",
      "\u001b[0;31mNameError\u001b[0m: name 'test_files' is not defined"
     ]
    }
   ],
   "source": [
    "test_files[0]"
   ]
  },
  {
   "cell_type": "code",
   "execution_count": 38,
   "metadata": {},
   "outputs": [
    {
     "name": "stdout",
     "output_type": "stream",
     "text": [
      "BraTS20_Training_045\n"
     ]
    },
    {
     "data": {
      "image/png": "[encoded data removed]",
      "text/plain": [
       "<Figure size 432x288 with 2 Axes>"
      ]
     },
     "metadata": {
      "needs_background": "light"
     },
     "output_type": "display_data"
    }
   ],
   "source": [
    "import matplotlib.pyplot as plt\n",
    "sample = test_files[20]\n",
    "print(sample)\n",
    "img = os.path.join(paths[\"DATABASE_DIR\"], create_file_name(sample, 4))\n",
    "img_mask = os.path.join(paths[\"DATABASE_DIR\"], create_file_name(sample, 1))\n",
    "img = nib.load(img)\n",
    "img_mask = nib.load(\"/media/bersek/56DAFC88DAFC65A1/BRATS/code/BraTS20_Training_045_seg.nii\")\n",
    "image = img.get_fdata()\n",
    "image = image[::-1]\n",
    "image_mask = img_mask.get_fdata()\n",
    "image_mask = image_mask[::-1]\n",
    "\n",
    "z = 105\n",
    "y = 150\n",
    "x = 140\n",
    "threshold = 0.1\n",
    "n1 =50\n",
    "m1 = 240-(64-n1)\n",
    "\n",
    "n2 =50\n",
    "m2 = 240-(64-n2)\n",
    "\n",
    "n3 =50\n",
    "m3 = 240-(65-n3)\n",
    "\n",
    "color1 = \"rainbow\"\n",
    "color2 = \"cool\"\n",
    "threshold = 0.1\n",
    "image_mask[:,:,:][image_mask[:,:,:]< threshold] = np.nan\n",
    "\n",
    "plt.figure(plt.figure(figsize=(6, 4)))\n",
    "plt.subplots_adjust(left=0.2,\n",
    "                    bottom=0.1, \n",
    "                    right=0.9, \n",
    "                    top=0.9, \n",
    "                    wspace=0.1, \n",
    "                    hspace=0.2)\n",
    "plt.subplot(1,2,1)\n",
    "plt.axis(\"off\")\n",
    "plt.title(\"Original\")\n",
    "plt.imshow(np.transpose(image[x,:,:],(1,0))[::-1], 'gray', interpolation='none')\n",
    "#plt.imshow(np.transpose(image_mask[x,:,:],(1,0))[::-1], color2, interpolation='none', alpha=0.3)\n",
    "plt.subplot(1,2,2)\n",
    "plt.axis(\"off\")\n",
    "plt.title(\"Segmentación\")\n",
    "plt.imshow(np.transpose(image[x,:,:],(1,0))[::-1], 'gray', interpolation='none')\n",
    "plt.imshow(np.transpose(image_mask[x,:,:],(1,0))[::-1], color1, interpolation='none', alpha=0.4)\n",
    "\n",
    "\n",
    "\n",
    "\n",
    "plt.savefig(\"test_{}.png\".format(color1), dpi=1200, \n",
    "                transparent=True, \n",
    "                bbox_inches='tight')\n",
    "\n",
    "\n",
    "plt.show()\n"
   ]
  },
  {
   "cell_type": "code",
   "execution_count": 33,
   "metadata": {},
   "outputs": [
    {
     "data": {
      "text/plain": [
       "(240, 155)"
      ]
     },
     "execution_count": 33,
     "metadata": {},
     "output_type": "execute_result"
    }
   ],
   "source": [
    "image[x,:,:].shape"
   ]
  },
  {
   "cell_type": "code",
   "execution_count": 82,
   "metadata": {},
   "outputs": [
    {
     "data": {
      "text/plain": [
       "(240, 155)"
      ]
     },
     "execution_count": 82,
     "metadata": {},
     "output_type": "execute_result"
    }
   ],
   "source": [
    "image_mask[:,45:200,z].shape"
   ]
  }
 ],
 "metadata": {
  "interpreter": {
   "hash": "025d0611cc4da457942597668eb92d0e0ea6adb3492e08c6baf3cabfed307b11"
  },
  "kernelspec": {
   "display_name": "Python 3.8.10 64-bit ('tumores': venv)",
   "name": "python3"
  },
  "language_info": {
   "codemirror_mode": {
    "name": "ipython",
    "version": 3
   },
   "file_extension": ".py",
   "mimetype": "text/x-python",
   "name": "python",
   "nbconvert_exporter": "python",
   "pygments_lexer": "ipython3",
   "version": "3.8.10"
  },
  "orig_nbformat": 4
 },
 "nbformat": 4,
 "nbformat_minor": 2
}
