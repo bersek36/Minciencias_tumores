{
 "cells": [
  {
   "cell_type": "code",
   "execution_count": null,
   "metadata": {},
   "outputs": [],
   "source": [
    "import os\n",
    "import random\n",
    "\n",
    "import numpy as np \n",
    "from numpy import load\n",
    "from numpy import savez_compressed\n",
    "import nibabel as nib\n",
    "import tensorflow as tf\n",
    "\n",
    "from nets.unet3d import *\n",
    "from utils_tumores import *\n",
    "\n",
    "np.set_printoptions(precision=2, suppress=True)\n",
    "PARENT_DIR = os.getcwd()\n",
    "MODEL_PATH = os.path.join(PARENT_DIR, \"models\", \"3D\")"
   ]
  },
  {
   "cell_type": "code",
   "execution_count": null,
   "metadata": {},
   "outputs": [],
   "source": [
    "print(output_x)"
   ]
  },
  {
   "cell_type": "code",
   "execution_count": null,
   "metadata": {},
   "outputs": [],
   "source": []
  },
  {
   "cell_type": "code",
   "execution_count": null,
   "metadata": {},
   "outputs": [],
   "source": [
    "print(tf.__version__)\n",
    "tf.config.list_physical_devices(\"GPU\") "
   ]
  },
  {
   "cell_type": "code",
   "execution_count": null,
   "metadata": {},
   "outputs": [],
   "source": [
    "# Crea los directorios si no existen, el unico requisito es que se tenga la DB en una carpeta llamada NFBS_Dataset \n",
    "# Dentro del mismo directorio que este codigo\n",
    "volumes_folders = count_volumes(dataset_folder)\n",
    "paths, train_files, val_files, test_files = make_dirs(volumes_folders)\n",
    "paths.keys()\n"
   ]
  },
  {
   "cell_type": "markdown",
   "metadata": {},
   "source": [
    "# Data split"
   ]
  },
  {
   "cell_type": "code",
   "execution_count": null,
   "metadata": {},
   "outputs": [],
   "source": [
    "print(len(train_files))\n",
    "print(len(val_files))\n",
    "print(len(test_files))"
   ]
  },
  {
   "cell_type": "code",
   "execution_count": null,
   "metadata": {},
   "outputs": [],
   "source": [
    "print(train_files[0])\n"
   ]
  },
  {
   "cell_type": "code",
   "execution_count": null,
   "metadata": {},
   "outputs": [],
   "source": [
    "paths[\"SUBVOLUME_FOLDER\"]"
   ]
  },
  {
   "cell_type": "code",
   "execution_count": null,
   "metadata": {},
   "outputs": [],
   "source": [
    "os.path.join(paths[\"SUBVOLUME_FOLDER\"],\"BraTS20_Training_344\")"
   ]
  },
  {
   "cell_type": "code",
   "execution_count": null,
   "metadata": {},
   "outputs": [],
   "source": [
    "# Dividimos la lista de las carpetas de pacientes en train, val y test\n",
    "''' train_files, val_files = train_test_split(paths[\"SAMPLES\"], test_size=0.2, random_state=42)\n",
    "test_files, val_files = train_test_split(val_files, test_size=0.5, random_state=42) '''\n",
    "\n",
    "train_images=[]\n",
    "train_images_mask=[]\n",
    "\n",
    "for sample in train_files:\n",
    "    for subvol in sorted(os.listdir(os.path.join(paths[\"SUBVOLUME_FOLDER\"],sample))):\n",
    "        train_images.append(os.path.join(paths[\"SUBVOLUME_FOLDER\"],sample,subvol))\n",
    "        \n",
    "\n",
    "    for subvol in sorted(os.listdir(os.path.join(paths[\"SUBVOLUME_MASK_FOLDER\"],sample))):\n",
    "        train_images_mask.append(os.path.join(paths[\"SUBVOLUME_MASK_FOLDER\"],sample,subvol))\n",
    "\n",
    "val_images=[]\n",
    "val_images_mask=[]\n",
    "for sample in val_files:\n",
    "    for subvol in sorted(os.listdir(os.path.join(paths[\"SUBVOLUME_FOLDER\"],sample))):\n",
    "        val_images.append(os.path.join(paths[\"SUBVOLUME_FOLDER\"],sample,subvol))\n",
    "        \n",
    "\n",
    "    for subvol in sorted(os.listdir(os.path.join(paths[\"SUBVOLUME_MASK_FOLDER\"],sample))):\n",
    "        val_images_mask.append(os.path.join(paths[\"SUBVOLUME_MASK_FOLDER\"],sample,subvol))\n",
    "\n",
    "\n",
    "test_images=[]\n",
    "test_images_mask=[]\n",
    "# Agregamos una lista mas para crear la ruta de almacenamiendo de las predicciones\n",
    "test_predict_images=[]\n",
    "\n",
    "for sample in test_files:\n",
    "    for subvol in sorted(os.listdir(os.path.join(paths[\"SUBVOLUME_FOLDER\"],sample))):\n",
    "        test_images.append(os.path.join(paths[\"SUBVOLUME_FOLDER\"],sample,subvol))\n",
    "        test_predict_images.append(os.path.join(paths[\"RESULTS_3D\"],sample,subvol))\n",
    "        \n",
    "\n",
    "    for subvol in sorted(os.listdir(os.path.join(paths[\"SUBVOLUME_MASK_FOLDER\"],sample))):\n",
    "        test_images_mask.append(os.path.join(paths[\"SUBVOLUME_MASK_FOLDER\"],sample,subvol))\n"
   ]
  },
  {
   "cell_type": "code",
   "execution_count": null,
   "metadata": {},
   "outputs": [],
   "source": [
    "paths[\"RESULTS_3D\"]"
   ]
  },
  {
   "cell_type": "code",
   "execution_count": null,
   "metadata": {},
   "outputs": [],
   "source": [
    "print(len(train_images))\n",
    "print(len(train_images_mask))"
   ]
  },
  {
   "cell_type": "markdown",
   "metadata": {},
   "source": [
    "# Dataloader"
   ]
  },
  {
   "cell_type": "code",
   "execution_count": null,
   "metadata": {},
   "outputs": [],
   "source": [
    "def load_image(file, label):\n",
    "    dict_data_file = load(file.numpy().decode('utf-8'))\n",
    "    dict_data_label = load(label.numpy().decode('utf-8'))\n",
    "    # extract the first array\n",
    "    nifti = dict_data_file['arr_0']\n",
    "    label = dict_data_label['arr_0']\n",
    "    #nifti = np.asarray(nib.load(file.numpy().decode('utf-8')).get_fdata()).astype(np.int16)\n",
    "    #label = np.asarray(nib.load(label.numpy().decode('utf-8')).get_fdata()).astype(np.int16)\n",
    "    return nifti, label\n",
    "\n",
    "\n",
    "@tf.autograph.experimental.do_not_convert\n",
    "def load_image_wrapper(file, label):\n",
    "    image, label = tf.py_function(load_image, [file, label], [tf.float32, tf.float32])\n",
    "    image.set_shape(tf.TensorShape([output_x, output_y, output_z]))\n",
    "    label.set_shape(tf.TensorShape([output_x, output_y, output_z]))\n",
    "    return image, label\n",
    "\n",
    "\n",
    "train_dataset = tf.data.Dataset.from_tensor_slices((train_images, train_images_mask))\n",
    "train_dataset = train_dataset.shuffle(3, reshuffle_each_iteration=False)\n",
    "train_dataset = train_dataset.map(load_image_wrapper, num_parallel_calls=32)\n",
    "train_dataset = train_dataset.batch(8, drop_remainder=False)\n",
    "\n",
    "val_dataset = tf.data.Dataset.from_tensor_slices((val_images, val_images_mask))\n",
    "val_dataset = val_dataset.shuffle(3, reshuffle_each_iteration=False)\n",
    "val_dataset = val_dataset.map(load_image_wrapper, num_parallel_calls=32)\n",
    "val_dataset = val_dataset.batch(8, drop_remainder=False)\n",
    "\n",
    "test_dataset = tf.data.Dataset.from_tensor_slices((test_images, test_images_mask))\n",
    "test_dataset = test_dataset.map(load_image_wrapper, num_parallel_calls=32)\n",
    "test_dataset = test_dataset.batch(8, drop_remainder=False)"
   ]
  },
  {
   "cell_type": "code",
   "execution_count": null,
   "metadata": {},
   "outputs": [],
   "source": [
    "opt = keras.optimizers.Adam(learning_rate=0.001)"
   ]
  },
  {
   "cell_type": "code",
   "execution_count": null,
   "metadata": {},
   "outputs": [],
   "source": [
    "model_unet=unet_3D(output_x, output_y, output_z)\n",
    "model_unet.compile(optimizer=opt, loss = 'binary_crossentropy', \n",
    "                    metrics = ['accuracy', dice_coeff]) "
   ]
  },
  {
   "cell_type": "code",
   "execution_count": null,
   "metadata": {},
   "outputs": [],
   "source": [
    "callbacks = ModelCheckpoint(MODEL_PATH, \n",
    "                            monitor='val_dice_coeff',\n",
    "                            verbose=1, \n",
    "                            mode='max',\n",
    "                            save_best_only=True)"
   ]
  },
  {
   "cell_type": "code",
   "execution_count": null,
   "metadata": {},
   "outputs": [],
   "source": [
    "history = model_unet.fit(train_dataset,\n",
    "                         validation_data=val_dataset,\n",
    "                         epochs=3,\n",
    "                         callbacks=[callbacks, tf.keras.callbacks.EarlyStopping(verbose=2, patience=2,min_delta=0.001, monitor='val_dice_coeff')]) #Guardar la mejor epoca para validación"
   ]
  },
  {
   "cell_type": "code",
   "execution_count": null,
   "metadata": {},
   "outputs": [],
   "source": [
    "results = model_unet.evaluate(test_dataset)\n"
   ]
  },
  {
   "cell_type": "markdown",
   "metadata": {},
   "source": [
    "# Predicciones"
   ]
  },
  {
   "cell_type": "code",
   "execution_count": null,
   "metadata": {},
   "outputs": [],
   "source": [
    "model_unet_predict=unet_3D(output_x, output_y, output_z)"
   ]
  },
  {
   "cell_type": "code",
   "execution_count": null,
   "metadata": {},
   "outputs": [],
   "source": [
    "model_unet_predict.load_weights(MODEL_PATH)"
   ]
  },
  {
   "cell_type": "code",
   "execution_count": null,
   "metadata": {},
   "outputs": [],
   "source": [
    "for sub_volume in range(len(test_images)):\n",
    "    #Cargamos cada imagen como un array\n",
    "    dict_data = load(test_images[sub_volume])\n",
    "    # extract the first array\n",
    "    nifti = dict_data['arr_0']\n",
    "    #Convertimos a tensor\n",
    "    image = tf.convert_to_tensor(nifti, dtype=tf.float32)\n",
    "    #Agregamos la dimension del batch y no recuerdo cual es la otra\n",
    "    image = tf.expand_dims(image, axis=3)\n",
    "    image = tf.expand_dims(image, axis=0)\n",
    "    #Se realiza la prediccion\n",
    "    prediction = model_unet.predict(image)\n",
    "    #Elimina la dimension del batch\n",
    "    prediction = prediction.squeeze()\n",
    "    #Aplicamos un threshold para el valor de cada pixel\n",
    "    prediction[prediction>=0.5]=1.0\n",
    "    prediction[prediction<0.5]=0.0\n",
    "    #Guardamos la imagen\n",
    "    savez_compressed(test_predict_images[sub_volume], prediction)\n",
    "    "
   ]
  },
  {
   "cell_type": "code",
   "execution_count": null,
   "metadata": {},
   "outputs": [],
   "source": [
    "test_files"
   ]
  },
  {
   "cell_type": "markdown",
   "metadata": {},
   "source": [
    "# Reconstruccion de los volumenes de test"
   ]
  },
  {
   "cell_type": "code",
   "execution_count": null,
   "metadata": {},
   "outputs": [],
   "source": [
    "#Esta funcion esta muy bien documentada en el modulo utils.py\n",
    "pathe=reconstruction(test_files=test_files, path_resultados=paths[\"RESULTS_3D\"],path_rotation_matrix=paths[\"ROTATION_MATRIX\"])"
   ]
  },
  {
   "cell_type": "markdown",
   "metadata": {},
   "source": []
  },
  {
   "cell_type": "code",
   "execution_count": null,
   "metadata": {},
   "outputs": [],
   "source": []
  }
 ],
 "metadata": {
  "interpreter": {
   "hash": "025d0611cc4da457942597668eb92d0e0ea6adb3492e08c6baf3cabfed307b11"
  },
  "kernelspec": {
   "display_name": "Python 3.8.10 64-bit ('tumores': venv)",
   "name": "python3"
  },
  "language_info": {
   "codemirror_mode": {
    "name": "ipython",
    "version": 3
   },
   "file_extension": ".py",
   "mimetype": "text/x-python",
   "name": "python",
   "nbconvert_exporter": "python",
   "pygments_lexer": "ipython3",
   "version": "3.8.10"
  }
 },
 "nbformat": 4,
 "nbformat_minor": 2
}
