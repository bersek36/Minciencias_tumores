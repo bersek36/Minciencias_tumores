{
 "cells": [
  {
   "cell_type": "code",
   "execution_count": 1,
   "source": [
    "import os\n",
    "import random\n",
    "\n",
    "import numpy as np \n",
    "from numpy import load\n",
    "from numpy import savez_compressed\n",
    "import nibabel as nib\n",
    "import tensorflow as tf\n",
    "\n",
    "from nets.unet3d import *\n",
    "from utils_tumores import *\n",
    "\n",
    "np.set_printoptions(precision=2, suppress=True)\n",
    "PARENT_DIR = os.getcwd()\n",
    "MODEL_PATH = os.path.join(PARENT_DIR, \"models\", \"3D\")"
   ],
   "outputs": [
    {
     "output_type": "stream",
     "name": "stdout",
     "text": [
      "BraTS20_Training_001\n",
      "parent dir:  /media/bersek/56DAFC88DAFC65A1/BRATS\n"
     ]
    }
   ],
   "metadata": {}
  },
  {
   "cell_type": "code",
   "execution_count": 2,
   "source": [
    "print(output_x)"
   ],
   "outputs": [
    {
     "output_type": "stream",
     "name": "stdout",
     "text": [
      "80\n"
     ]
    }
   ],
   "metadata": {}
  },
  {
   "cell_type": "code",
   "execution_count": null,
   "source": [],
   "outputs": [],
   "metadata": {}
  },
  {
   "cell_type": "code",
   "execution_count": 3,
   "source": [
    "print(tf.__version__)\n",
    "tf.config.list_physical_devices(\"GPU\") "
   ],
   "outputs": [
    {
     "output_type": "stream",
     "name": "stdout",
     "text": [
      "2.6.0\n"
     ]
    },
    {
     "output_type": "stream",
     "name": "stderr",
     "text": [
      "2021-10-04 19:33:00.174504: I tensorflow/stream_executor/cuda/cuda_gpu_executor.cc:937] successful NUMA node read from SysFS had negative value (-1), but there must be at least one NUMA node, so returning NUMA node zero\n",
      "2021-10-04 19:33:00.265944: I tensorflow/stream_executor/cuda/cuda_gpu_executor.cc:937] successful NUMA node read from SysFS had negative value (-1), but there must be at least one NUMA node, so returning NUMA node zero\n",
      "2021-10-04 19:33:00.266263: I tensorflow/stream_executor/cuda/cuda_gpu_executor.cc:937] successful NUMA node read from SysFS had negative value (-1), but there must be at least one NUMA node, so returning NUMA node zero\n"
     ]
    },
    {
     "output_type": "execute_result",
     "data": {
      "text/plain": [
       "[PhysicalDevice(name='/physical_device:GPU:0', device_type='GPU')]"
      ]
     },
     "metadata": {},
     "execution_count": 3
    }
   ],
   "metadata": {}
  },
  {
   "cell_type": "code",
   "execution_count": 4,
   "source": [
    "# Crea los directorios si no existen, el unico requisito es que se tenga la DB en una carpeta llamada NFBS_Dataset \n",
    "# Dentro del mismo directorio que este codigo\n",
    "volumes_folders = count_volumes(dataset_folder)\n",
    "paths, train_files, val_files, test_files = make_dirs(volumes_folders)\n",
    "paths.keys()\n"
   ],
   "outputs": [
    {
     "output_type": "stream",
     "name": "stdout",
     "text": [
      "BraTS20_Training_001\n",
      "parent dir:  /media/bersek/56DAFC88DAFC65A1/BRATS\n"
     ]
    },
    {
     "output_type": "execute_result",
     "data": {
      "text/plain": [
       "dict_keys(['SUBVOLUME_FOLDER', 'SUBVOLUME_MASK_FOLDER', 'ROTATION_MATRIX', 'RESULTS_3D', 'DATABASE_DIR', 'SAMPLES', 'TEST_SAMPLES'])"
      ]
     },
     "metadata": {},
     "execution_count": 4
    }
   ],
   "metadata": {}
  },
  {
   "cell_type": "markdown",
   "source": [
    "# Data split"
   ],
   "metadata": {}
  },
  {
   "cell_type": "code",
   "execution_count": 5,
   "source": [
    "print(len(train_files))\n",
    "print(len(val_files))\n",
    "print(len(test_files))"
   ],
   "outputs": [
    {
     "output_type": "stream",
     "name": "stdout",
     "text": [
      "295\n",
      "37\n",
      "37\n"
     ]
    }
   ],
   "metadata": {}
  },
  {
   "cell_type": "code",
   "execution_count": 6,
   "source": [
    "print(train_files[0])\n"
   ],
   "outputs": [
    {
     "output_type": "stream",
     "name": "stdout",
     "text": [
      "BraTS20_Training_344\n"
     ]
    }
   ],
   "metadata": {}
  },
  {
   "cell_type": "code",
   "execution_count": 7,
   "source": [
    "paths[\"SUBVOLUME_FOLDER\"]"
   ],
   "outputs": [
    {
     "output_type": "execute_result",
     "data": {
      "text/plain": [
       "'/media/bersek/56DAFC88DAFC65A1/BRATS/processed/3D/subvolumes'"
      ]
     },
     "metadata": {},
     "execution_count": 7
    }
   ],
   "metadata": {}
  },
  {
   "cell_type": "code",
   "execution_count": 8,
   "source": [
    "os.path.join(paths[\"SUBVOLUME_FOLDER\"],\"BraTS20_Training_344\")"
   ],
   "outputs": [
    {
     "output_type": "execute_result",
     "data": {
      "text/plain": [
       "'/media/bersek/56DAFC88DAFC65A1/BRATS/processed/3D/subvolumes/BraTS20_Training_344'"
      ]
     },
     "metadata": {},
     "execution_count": 8
    }
   ],
   "metadata": {}
  },
  {
   "cell_type": "code",
   "execution_count": 9,
   "source": [
    "# Dividimos la lista de las carpetas de pacientes en train, val y test\n",
    "''' train_files, val_files = train_test_split(paths[\"SAMPLES\"], test_size=0.2, random_state=42)\n",
    "test_files, val_files = train_test_split(val_files, test_size=0.5, random_state=42) '''\n",
    "\n",
    "train_images=[]\n",
    "train_images_mask=[]\n",
    "\n",
    "for sample in train_files:\n",
    "    for subvol in sorted(os.listdir(os.path.join(paths[\"SUBVOLUME_FOLDER\"],sample))):\n",
    "        train_images.append(os.path.join(paths[\"SUBVOLUME_FOLDER\"],sample,subvol))\n",
    "        \n",
    "\n",
    "    for subvol in sorted(os.listdir(os.path.join(paths[\"SUBVOLUME_MASK_FOLDER\"],sample))):\n",
    "        train_images_mask.append(os.path.join(paths[\"SUBVOLUME_MASK_FOLDER\"],sample,subvol))\n",
    "\n",
    "val_images=[]\n",
    "val_images_mask=[]\n",
    "for sample in val_files:\n",
    "    for subvol in sorted(os.listdir(os.path.join(paths[\"SUBVOLUME_FOLDER\"],sample))):\n",
    "        val_images.append(os.path.join(paths[\"SUBVOLUME_FOLDER\"],sample,subvol))\n",
    "        \n",
    "\n",
    "    for subvol in sorted(os.listdir(os.path.join(paths[\"SUBVOLUME_MASK_FOLDER\"],sample))):\n",
    "        val_images_mask.append(os.path.join(paths[\"SUBVOLUME_MASK_FOLDER\"],sample,subvol))\n",
    "\n",
    "\n",
    "test_images=[]\n",
    "test_images_mask=[]\n",
    "# Agregamos una lista mas para crear la ruta de almacenamiendo de las predicciones\n",
    "test_predict_images=[]\n",
    "\n",
    "for sample in test_files:\n",
    "    for subvol in sorted(os.listdir(os.path.join(paths[\"SUBVOLUME_FOLDER\"],sample))):\n",
    "        test_images.append(os.path.join(paths[\"SUBVOLUME_FOLDER\"],sample,subvol))\n",
    "        test_predict_images.append(os.path.join(paths[\"RESULTS_3D\"],sample,subvol))\n",
    "        \n",
    "\n",
    "    for subvol in sorted(os.listdir(os.path.join(paths[\"SUBVOLUME_MASK_FOLDER\"],sample))):\n",
    "        test_images_mask.append(os.path.join(paths[\"SUBVOLUME_MASK_FOLDER\"],sample,subvol))\n"
   ],
   "outputs": [],
   "metadata": {}
  },
  {
   "cell_type": "code",
   "execution_count": 10,
   "source": [
    "paths[\"RESULTS_3D\"]"
   ],
   "outputs": [
    {
     "output_type": "execute_result",
     "data": {
      "text/plain": [
       "'/media/bersek/56DAFC88DAFC65A1/BRATS/processed/3D/subvolumes_predict'"
      ]
     },
     "metadata": {},
     "execution_count": 10
    }
   ],
   "metadata": {}
  },
  {
   "cell_type": "code",
   "execution_count": 11,
   "source": [
    "print(len(train_images))\n",
    "print(len(train_images_mask))"
   ],
   "outputs": [
    {
     "output_type": "stream",
     "name": "stdout",
     "text": [
      "13275\n",
      "13275\n"
     ]
    }
   ],
   "metadata": {}
  },
  {
   "cell_type": "markdown",
   "source": [
    "# Dataloader"
   ],
   "metadata": {}
  },
  {
   "cell_type": "code",
   "execution_count": 12,
   "source": [
    "def load_image(file, label):\n",
    "    dict_data_file = load(file.numpy().decode('utf-8'))\n",
    "    dict_data_label = load(label.numpy().decode('utf-8'))\n",
    "    # extract the first array\n",
    "    nifti = dict_data_file['arr_0']\n",
    "    label = dict_data_label['arr_0']\n",
    "    #nifti = np.asarray(nib.load(file.numpy().decode('utf-8')).get_fdata()).astype(np.int16)\n",
    "    #label = np.asarray(nib.load(label.numpy().decode('utf-8')).get_fdata()).astype(np.int16)\n",
    "    return nifti, label\n",
    "\n",
    "\n",
    "@tf.autograph.experimental.do_not_convert\n",
    "def load_image_wrapper(file, label):\n",
    "    image, label = tf.py_function(load_image, [file, label], [tf.float32, tf.float32])\n",
    "    image.set_shape(tf.TensorShape([output_x, output_y, output_z]))\n",
    "    label.set_shape(tf.TensorShape([output_x, output_y, output_z]))\n",
    "    return image, label\n",
    "\n",
    "\n",
    "train_dataset = tf.data.Dataset.from_tensor_slices((train_images, train_images_mask))\n",
    "train_dataset = train_dataset.shuffle(3, reshuffle_each_iteration=False)\n",
    "train_dataset = train_dataset.map(load_image_wrapper, num_parallel_calls=32)\n",
    "train_dataset = train_dataset.batch(8, drop_remainder=False)\n",
    "\n",
    "val_dataset = tf.data.Dataset.from_tensor_slices((val_images, val_images_mask))\n",
    "val_dataset = val_dataset.shuffle(3, reshuffle_each_iteration=False)\n",
    "val_dataset = val_dataset.map(load_image_wrapper, num_parallel_calls=32)\n",
    "val_dataset = val_dataset.batch(8, drop_remainder=False)\n",
    "\n",
    "test_dataset = tf.data.Dataset.from_tensor_slices((test_images, test_images_mask))\n",
    "test_dataset = test_dataset.map(load_image_wrapper, num_parallel_calls=32)\n",
    "test_dataset = test_dataset.batch(8, drop_remainder=False)"
   ],
   "outputs": [
    {
     "output_type": "stream",
     "name": "stderr",
     "text": [
      "2021-10-04 19:33:00.852625: I tensorflow/core/platform/cpu_feature_guard.cc:142] This TensorFlow binary is optimized with oneAPI Deep Neural Network Library (oneDNN) to use the following CPU instructions in performance-critical operations:  AVX2 FMA\n",
      "To enable them in other operations, rebuild TensorFlow with the appropriate compiler flags.\n",
      "2021-10-04 19:33:00.852896: I tensorflow/stream_executor/cuda/cuda_gpu_executor.cc:937] successful NUMA node read from SysFS had negative value (-1), but there must be at least one NUMA node, so returning NUMA node zero\n",
      "2021-10-04 19:33:00.853251: I tensorflow/stream_executor/cuda/cuda_gpu_executor.cc:937] successful NUMA node read from SysFS had negative value (-1), but there must be at least one NUMA node, so returning NUMA node zero\n",
      "2021-10-04 19:33:00.853531: I tensorflow/stream_executor/cuda/cuda_gpu_executor.cc:937] successful NUMA node read from SysFS had negative value (-1), but there must be at least one NUMA node, so returning NUMA node zero\n",
      "2021-10-04 19:33:02.033842: I tensorflow/stream_executor/cuda/cuda_gpu_executor.cc:937] successful NUMA node read from SysFS had negative value (-1), but there must be at least one NUMA node, so returning NUMA node zero\n",
      "2021-10-04 19:33:02.034298: I tensorflow/stream_executor/cuda/cuda_gpu_executor.cc:937] successful NUMA node read from SysFS had negative value (-1), but there must be at least one NUMA node, so returning NUMA node zero\n",
      "2021-10-04 19:33:02.034697: I tensorflow/stream_executor/cuda/cuda_gpu_executor.cc:937] successful NUMA node read from SysFS had negative value (-1), but there must be at least one NUMA node, so returning NUMA node zero\n",
      "2021-10-04 19:33:02.035450: I tensorflow/core/common_runtime/gpu/gpu_device.cc:1510] Created device /job:localhost/replica:0/task:0/device:GPU:0 with 6233 MB memory:  -> device: 0, name: NVIDIA GeForce RTX 2060 SUPER, pci bus id: 0000:01:00.0, compute capability: 7.5\n"
     ]
    }
   ],
   "metadata": {}
  },
  {
   "cell_type": "code",
   "execution_count": 13,
   "source": [
    "opt = keras.optimizers.Adam(learning_rate=0.001)"
   ],
   "outputs": [],
   "metadata": {}
  },
  {
   "cell_type": "code",
   "execution_count": 14,
   "source": [
    "model_unet=unet_3D(output_x, output_y, output_z)\n",
    "model_unet.compile(optimizer=opt, loss = 'binary_crossentropy', \n",
    "                    metrics = ['accuracy', dice_coeff]) "
   ],
   "outputs": [
    {
     "output_type": "stream",
     "name": "stdout",
     "text": [
      "(None, 80, 80, 32, 1) \n",
      "\n",
      "(None, 80, 80, 32, 32)\n",
      "(None, 80, 80, 32, 32)\n",
      "(None, 40, 40, 16, 32)\n",
      "(None, 40, 40, 16, 64)\n",
      "(None, 40, 40, 16, 64)\n",
      "(None, 20, 20, 8, 64)\n",
      "(None, 20, 20, 8, 128)\n",
      "(None, 20, 20, 8, 128)\n",
      "(None, 10, 10, 4, 128)\n",
      "(None, 10, 10, 4, 256)\n",
      "(None, 10, 10, 4, 256)  here go1 \n",
      "\n",
      "(None, 5, 5, 2, 256)  here go\n",
      " \n",
      "(None, 5, 5, 2, 512)\n",
      "(None, 5, 5, 2, 512) \n",
      "\n",
      "(None, 10, 10, 4, 256)\n",
      "(None, 10, 10, 4, 512)\n",
      "(None, 10, 10, 4, 256)\n",
      "(None, 10, 10, 4, 256)\n",
      "(None, 20, 20, 8, 128)\n",
      "(None, 20, 20, 8, 256)\n",
      "(None, 20, 20, 8, 128)\n",
      "(None, 20, 20, 8, 128)\n",
      "(None, 40, 40, 16, 64)\n",
      "(None, 40, 40, 16, 128)\n",
      "(None, 40, 40, 16, 64)\n",
      "(None, 40, 40, 16, 64)\n",
      "(None, 80, 80, 32, 32)\n",
      "(None, 80, 80, 32, 64)\n",
      "(None, 80, 80, 32, 32)\n",
      "(None, 80, 80, 32, 32) \n",
      "\n",
      "(None, 80, 80, 32, 1)\n"
     ]
    }
   ],
   "metadata": {}
  },
  {
   "cell_type": "code",
   "execution_count": 15,
   "source": [
    "callbacks = ModelCheckpoint(MODEL_PATH, \n",
    "                            monitor='val_dice_coeff',\n",
    "                            verbose=1, \n",
    "                            mode='max',\n",
    "                            save_best_only=True)"
   ],
   "outputs": [],
   "metadata": {}
  },
  {
   "cell_type": "code",
   "execution_count": 16,
   "source": [
    "history = model_unet.fit(train_dataset,\n",
    "                         validation_data=val_dataset,\n",
    "                         epochs=3,\n",
    "                         callbacks=[callbacks, tf.keras.callbacks.EarlyStopping(verbose=2, patience=2,min_delta=0.001, monitor='val_dice_coeff')]) #Guardar la mejor epoca para validación"
   ],
   "outputs": [
    {
     "output_type": "stream",
     "name": "stderr",
     "text": [
      "2021-10-04 19:33:02.590773: I tensorflow/compiler/mlir/mlir_graph_optimization_pass.cc:185] None of the MLIR Optimization Passes are enabled (registered 2)\n"
     ]
    },
    {
     "output_type": "stream",
     "name": "stdout",
     "text": [
      "Epoch 1/3\n"
     ]
    },
    {
     "output_type": "stream",
     "name": "stderr",
     "text": [
      "2021-10-04 19:33:05.596007: I tensorflow/stream_executor/cuda/cuda_dnn.cc:369] Loaded cuDNN version 8202\n",
      "2021-10-04 19:33:06.930018: I tensorflow/core/platform/default/subprocess.cc:304] Start cannot spawn child process: No such file or directory\n"
     ]
    },
    {
     "output_type": "stream",
     "name": "stdout",
     "text": [
      "1660/1660 [==============================] - 1296s 775ms/step - loss: 0.1172 - accuracy: 0.9820 - dice_coeff: 0.6474 - val_loss: 0.0762 - val_accuracy: 0.9887 - val_dice_coeff: 0.7859\n",
      "\n",
      "Epoch 00001: val_dice_coeff improved from -inf to 0.78589, saving model to /media/bersek/56DAFC88DAFC65A1/BRATS/code/models/3D\n"
     ]
    },
    {
     "output_type": "stream",
     "name": "stderr",
     "text": [
      "2021-10-04 19:54:40.934274: W tensorflow/python/util/util.cc:348] Sets are not currently considered sequences, but this may change in the future, so consider avoiding using them.\n"
     ]
    },
    {
     "output_type": "stream",
     "name": "stdout",
     "text": [
      "INFO:tensorflow:Assets written to: /media/bersek/56DAFC88DAFC65A1/BRATS/code/models/3D/assets\n",
      "Epoch 2/3\n",
      "1660/1660 [==============================] - 1288s 776ms/step - loss: 0.0633 - accuracy: 0.9862 - dice_coeff: 0.6353 - val_loss: 0.1256 - val_accuracy: 0.9359 - val_dice_coeff: 0.4873\n",
      "\n",
      "Epoch 00002: val_dice_coeff did not improve from 0.78589\n",
      "Epoch 3/3\n",
      "1660/1660 [==============================] - 1207s 727ms/step - loss: 0.0545 - accuracy: 0.9839 - dice_coeff: 0.5988 - val_loss: 0.2112 - val_accuracy: 0.9546 - val_dice_coeff: 0.5316\n",
      "\n",
      "Epoch 00003: val_dice_coeff did not improve from 0.78589\n"
     ]
    }
   ],
   "metadata": {}
  },
  {
   "cell_type": "code",
   "execution_count": 18,
   "source": [
    "results = model_unet.evaluate(test_dataset)\n"
   ],
   "outputs": [
    {
     "output_type": "stream",
     "name": "stdout",
     "text": [
      "209/209 [==============================] - 45s 213ms/step - loss: 0.2024 - accuracy: 0.9595 - dice_coeff: 0.5590\n"
     ]
    }
   ],
   "metadata": {}
  },
  {
   "cell_type": "markdown",
   "source": [
    "# Predicciones"
   ],
   "metadata": {}
  },
  {
   "cell_type": "code",
   "execution_count": 24,
   "source": [
    "model_unet_predict=unet_3D(output_x, output_y, output_z)"
   ],
   "outputs": [
    {
     "output_type": "stream",
     "name": "stdout",
     "text": [
      "(None, 80, 80, 32, 1) \n",
      "\n",
      "(None, 80, 80, 32, 32)\n",
      "(None, 80, 80, 32, 32)\n",
      "(None, 40, 40, 16, 32)\n",
      "(None, 40, 40, 16, 64)\n",
      "(None, 40, 40, 16, 64)\n",
      "(None, 20, 20, 8, 64)\n",
      "(None, 20, 20, 8, 128)\n",
      "(None, 20, 20, 8, 128)\n",
      "(None, 10, 10, 4, 128)\n",
      "(None, 10, 10, 4, 256)\n",
      "(None, 10, 10, 4, 256)  here go1 \n",
      "\n",
      "(None, 5, 5, 2, 256)  here go\n",
      " \n",
      "(None, 5, 5, 2, 512)\n",
      "(None, 5, 5, 2, 512) \n",
      "\n",
      "(None, 10, 10, 4, 256)\n",
      "(None, 10, 10, 4, 512)\n",
      "(None, 10, 10, 4, 256)\n",
      "(None, 10, 10, 4, 256)\n",
      "(None, 20, 20, 8, 128)\n",
      "(None, 20, 20, 8, 256)\n",
      "(None, 20, 20, 8, 128)\n",
      "(None, 20, 20, 8, 128)\n",
      "(None, 40, 40, 16, 64)\n",
      "(None, 40, 40, 16, 128)\n",
      "(None, 40, 40, 16, 64)\n",
      "(None, 40, 40, 16, 64)\n",
      "(None, 80, 80, 32, 32)\n",
      "(None, 80, 80, 32, 64)\n",
      "(None, 80, 80, 32, 32)\n",
      "(None, 80, 80, 32, 32) \n",
      "\n",
      "(None, 80, 80, 32, 1)\n"
     ]
    }
   ],
   "metadata": {}
  },
  {
   "cell_type": "code",
   "execution_count": 25,
   "source": [
    "model_unet_predict.load_weights(MODEL_PATH)"
   ],
   "outputs": [
    {
     "output_type": "stream",
     "name": "stderr",
     "text": [
      "2021-10-04 20:51:27.354348: W tensorflow/core/util/tensor_slice_reader.cc:95] Could not open /media/bersek/56DAFC88DAFC65A1/BRATS/code/models/3D: Failed precondition: /media/bersek/56DAFC88DAFC65A1/BRATS/code/models/3D; Is a directory: perhaps your file is in a different file format and you need to use a different restore operator?\n"
     ]
    },
    {
     "output_type": "execute_result",
     "data": {
      "text/plain": [
       "<tensorflow.python.training.tracking.util.CheckpointLoadStatus at 0x7feb0d895160>"
      ]
     },
     "metadata": {},
     "execution_count": 25
    }
   ],
   "metadata": {}
  },
  {
   "cell_type": "code",
   "execution_count": 28,
   "source": [
    "for sub_volume in range(len(test_images)):\n",
    "    #Cargamos cada imagen como un array\n",
    "    dict_data = load(test_images[sub_volume])\n",
    "    # extract the first array\n",
    "    nifti = dict_data['arr_0']\n",
    "    #Convertimos a tensor\n",
    "    image = tf.convert_to_tensor(nifti, dtype=tf.float32)\n",
    "    #Agregamos la dimension del batch y no recuerdo cual es la otra\n",
    "    image = tf.expand_dims(image, axis=3)\n",
    "    image = tf.expand_dims(image, axis=0)\n",
    "    #Se realiza la prediccion\n",
    "    prediction = model_unet.predict(image)\n",
    "    #Elimina la dimension del batch\n",
    "    prediction = prediction.squeeze()\n",
    "    #Aplicamos un threshold para el valor de cada pixel\n",
    "    prediction[prediction>=0.5]=1.0\n",
    "    prediction[prediction<0.5]=0.0\n",
    "    #Guardamos la imagen\n",
    "    savez_compressed(test_predict_images[sub_volume], prediction)\n",
    "    "
   ],
   "outputs": [],
   "metadata": {}
  },
  {
   "cell_type": "code",
   "execution_count": 21,
   "source": [
    "test_files"
   ],
   "outputs": [
    {
     "output_type": "execute_result",
     "data": {
      "text/plain": [
       "['BraTS20_Training_345',\n",
       " 'BraTS20_Training_223',\n",
       " 'BraTS20_Training_139',\n",
       " 'BraTS20_Training_302',\n",
       " 'BraTS20_Training_368',\n",
       " 'BraTS20_Training_272',\n",
       " 'BraTS20_Training_064',\n",
       " 'BraTS20_Training_324',\n",
       " 'BraTS20_Training_244',\n",
       " 'BraTS20_Training_073',\n",
       " 'BraTS20_Training_308',\n",
       " 'BraTS20_Training_274',\n",
       " 'BraTS20_Training_184',\n",
       " 'BraTS20_Training_294',\n",
       " 'BraTS20_Training_217',\n",
       " 'BraTS20_Training_006',\n",
       " 'BraTS20_Training_249',\n",
       " 'BraTS20_Training_304',\n",
       " 'BraTS20_Training_221',\n",
       " 'BraTS20_Training_042',\n",
       " 'BraTS20_Training_045',\n",
       " 'BraTS20_Training_065',\n",
       " 'BraTS20_Training_212',\n",
       " 'BraTS20_Training_024',\n",
       " 'BraTS20_Training_366',\n",
       " 'BraTS20_Training_211',\n",
       " 'BraTS20_Training_199',\n",
       " 'BraTS20_Training_036',\n",
       " 'BraTS20_Training_282',\n",
       " 'BraTS20_Training_169',\n",
       " 'BraTS20_Training_017',\n",
       " 'BraTS20_Training_230',\n",
       " 'BraTS20_Training_010',\n",
       " 'BraTS20_Training_118',\n",
       " 'BraTS20_Training_185',\n",
       " 'BraTS20_Training_142',\n",
       " 'BraTS20_Training_132']"
      ]
     },
     "metadata": {},
     "execution_count": 21
    }
   ],
   "metadata": {}
  },
  {
   "cell_type": "markdown",
   "source": [
    "# Reconstruccion de los volumenes de test"
   ],
   "metadata": {}
  },
  {
   "cell_type": "code",
   "execution_count": 29,
   "source": [
    "#Esta funcion esta muy bien documentada en el modulo utils.py\n",
    "pathe=reconstruction(test_files=test_files, path_resultados=paths[\"RESULTS_3D\"],path_rotation_matrix=paths[\"ROTATION_MATRIX\"])"
   ],
   "outputs": [
    {
     "output_type": "stream",
     "name": "stdout",
     "text": [
      "X: 3  Y: 3  Z: 5\n"
     ]
    }
   ],
   "metadata": {}
  },
  {
   "cell_type": "markdown",
   "source": [],
   "metadata": {}
  },
  {
   "cell_type": "code",
   "execution_count": null,
   "source": [],
   "outputs": [],
   "metadata": {}
  }
 ],
 "metadata": {
  "interpreter": {
   "hash": "025d0611cc4da457942597668eb92d0e0ea6adb3492e08c6baf3cabfed307b11"
  },
  "kernelspec": {
   "name": "python3",
   "display_name": "Python 3.8.10 64-bit ('tumores': venv)"
  },
  "language_info": {
   "codemirror_mode": {
    "name": "ipython",
    "version": 3
   },
   "file_extension": ".py",
   "mimetype": "text/x-python",
   "name": "python",
   "nbconvert_exporter": "python",
   "pygments_lexer": "ipython3",
   "version": "3.8.10"
  }
 },
 "nbformat": 4,
 "nbformat_minor": 2
}